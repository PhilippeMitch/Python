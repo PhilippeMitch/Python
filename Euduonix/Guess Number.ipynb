{
 "cells": [
  {
   "cell_type": "code",
   "execution_count": 1,
   "metadata": {},
   "outputs": [],
   "source": [
    "import random"
   ]
  },
  {
   "cell_type": "code",
   "execution_count": 2,
   "metadata": {},
   "outputs": [
    {
     "name": "stdout",
     "output_type": "stream",
     "text": [
      "How many game would you like to play?3\n",
      "Enter a number between 1-25: 23\n",
      "The number is higher\n",
      "Enter a number between 1-25: 15\n",
      "The number is higher\n",
      "Enter a number between 1-25: 20\n",
      "The number is higher\n",
      "Sorry, The number I was thinking of was 8\n"
     ]
    }
   ],
   "source": [
    "n = random.randint(1, 25)\n",
    "iterate_number = 0\n",
    "guessesTaken = 0\n",
    "nb_game = int(input(\"How many game would you like to play?\"))\n",
    "\n",
    "while guessesTaken <nb_game:\n",
    "    guess = int(input(\"Enter a number between 1-25: \"))\n",
    "    guessesTaken = guessesTaken + 1\n",
    "    if guess < n:\n",
    "        print (\"The number is lower\")\n",
    "    if guess > n:\n",
    "        print (\"The number is higher\")\n",
    "    if guess == n:\n",
    "        print (\"you guessed it!\")\n",
    "        break\n",
    "if guess == n:\n",
    "    guessesTaken = str(guessesTaken)\n",
    "    print('Good job, you took ' + guessesTaken + ' guesses!')\n",
    "\n",
    "if guess != n:\n",
    "    n = str(n)\n",
    "    print('Sorry, The number I was thinking of was ' + n)"
   ]
  },
  {
   "cell_type": "code",
   "execution_count": null,
   "metadata": {},
   "outputs": [],
   "source": []
  }
 ],
 "metadata": {
  "kernelspec": {
   "display_name": "Python 3",
   "language": "python",
   "name": "python3"
  },
  "language_info": {
   "codemirror_mode": {
    "name": "ipython",
    "version": 3
   },
   "file_extension": ".py",
   "mimetype": "text/x-python",
   "name": "python",
   "nbconvert_exporter": "python",
   "pygments_lexer": "ipython3",
   "version": "3.6.8"
  }
 },
 "nbformat": 4,
 "nbformat_minor": 2
}
