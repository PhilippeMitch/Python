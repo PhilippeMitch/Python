{
 "cells": [
  {
   "cell_type": "code",
   "execution_count": 3,
   "metadata": {},
   "outputs": [],
   "source": [
    "import random"
   ]
  },
  {
   "cell_type": "code",
   "execution_count": 6,
   "metadata": {},
   "outputs": [
    {
     "name": "stdout",
     "output_type": "stream",
     "text": [
      "How many game would you like to play?2\n",
      "Enter a number between 1-25: 32\n",
      "32\n",
      "Enter a number between 1-25: 32\n",
      "32\n"
     ]
    }
   ],
   "source": [
    "n = random.randint(1, 25)\n",
    "iterate_number = 0\n",
    "nb_game = int(input(\"How many game would you like to play?\"))\n",
    "\n",
    "for game in range(nb_game):\n",
    "    guess = int(input(\"Enter a number between 1-25: \"))\n",
    "    while n != \"guess\":\n",
    "        print\n",
    "        if guess < n:\n",
    "            print (\"guess is lower\")\n",
    "            guess = int(input(\"Enter a number between 1-25: \"))\n",
    "        elif guess > n:\n",
    "            print (\"guess is higher\")\n",
    "            guess = int(input(\"Enter a number between 1-25: \"))\n",
    "        else:\n",
    "            print (\"you guessed it!\")\n",
    "            break\n",
    "        print"
   ]
  },
  {
   "cell_type": "code",
   "execution_count": null,
   "metadata": {},
   "outputs": [],
   "source": []
  }
 ],
 "metadata": {
  "kernelspec": {
   "display_name": "Python 3",
   "language": "python",
   "name": "python3"
  },
  "language_info": {
   "codemirror_mode": {
    "name": "ipython",
    "version": 3
   },
   "file_extension": ".py",
   "mimetype": "text/x-python",
   "name": "python",
   "nbconvert_exporter": "python",
   "pygments_lexer": "ipython3",
   "version": "3.6.8"
  }
 },
 "nbformat": 4,
 "nbformat_minor": 2
}
